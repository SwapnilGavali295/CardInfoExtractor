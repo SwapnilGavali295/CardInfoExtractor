{
 "cells": [
  {
   "cell_type": "code",
   "execution_count": 1,
   "id": "fdffb445",
   "metadata": {},
   "outputs": [],
   "source": [
    "import nltk\n",
    "import pandas as pd\n",
    "import random"
   ]
  },
  {
   "cell_type": "code",
   "execution_count": 2,
   "id": "86df9c2e",
   "metadata": {},
   "outputs": [],
   "source": [
    "from flair.data import Sentence  # Import Sentence class from Flair for sentence-level processing\n",
    "from flair.models import SequenceTagger  # Import SequenceTagger from Flair for sequence labeling"
   ]
  },
  {
   "cell_type": "code",
   "execution_count": 3,
   "id": "b09d89f6",
   "metadata": {},
   "outputs": [],
   "source": [
    "from nltk.tokenize import word_tokenize  # Import word_tokenize for word tokenization\n",
    "from nltk.tag import pos_tag  # Import pos_tag for part-of-speech tagging\n",
    "from nltk.chunk import ne_chunk  # Import ne_chunk for named entity chunking "
   ]
  },
  {
   "cell_type": "code",
   "execution_count": 9,
   "id": "5b893057",
   "metadata": {},
   "outputs": [
    {
     "name": "stdout",
     "output_type": "stream",
     "text": [
      "2024-11-13 04:30:47,333 SequenceTagger predicts: Dictionary with 20 tags: <unk>, O, S-ORG, S-MISC, B-PER, E-PER, S-LOC, B-ORG, E-ORG, I-PER, S-PER, B-MISC, I-MISC, E-MISC, I-ORG, B-LOC, E-LOC, I-LOC, <START>, <STOP>\n"
     ]
    }
   ],
   "source": [
    "\n",
    "def extractfromnltk2(text):\n",
    "    tokens = word_tokenize(text)\n",
    "    #print(tokens)\n",
    "    tagged = pos_tag(tokens)\n",
    "    #print(tagged)\n",
    "    tree = ne_chunk(tagged)#needs to given in pos_tagged\n",
    "    #print(tree)\n",
    "\n",
    "    # Extract named entities\n",
    "    named_entities = []\n",
    "\n",
    "    for subtree in tree:\n",
    "        if isinstance(subtree, nltk.Tree):\n",
    "            entity = \" \".join([word for word, tag in subtree.leaves()])\n",
    "            entity_label = subtree.label()\n",
    "            named_entities.append((entity, entity_label))\n",
    "\n",
    "    # Print all named entities\n",
    "    for entity, label in named_entities:\n",
    "        print(f\"Entity: {entity}, Label: {label}\")\n",
    "\n",
    "# Load the NER (Named Entity Recognition) model\n",
    "tagger = SequenceTagger.load(\"ner\")\n",
    "# Function to extract organizations from text using Flair\n",
    "def extractfromflair(text):\n",
    "\n",
    "\n",
    "    # Create a Flair Sentence object with the input text\n",
    "    sentence = Sentence(text)\n",
    "\n",
    "    # Use the NER model to predict named entities in the sentence\n",
    "    tagger.predict(sentence)\n",
    "\n",
    "    #named_entities = []\n",
    "\n",
    "    # Iterate through the named entities recognized by Flair\n",
    "    for entity in sentence.get_spans(\"ner\"):\n",
    "        #named_entities.append((entity.text, entity.tag))\n",
    "        # Print the recognized entity and its tag (optional)\n",
    "        print(f\"Entity: '{entity.text}' ({entity.tag})\")\n",
    "\n",
    "        # Check if the entity is an organization (tag 'ORG') and has a length of 10 characters or more\n",
    "        if len(entity.text) >= 10 and entity.tag == 'ORG':\n",
    "            return entity.text\n",
    "\n",
    "    # If no ORG entity is found, return None\n",
    "    return None"
   ]
  },
  {
   "cell_type": "code",
   "execution_count": 10,
   "id": "5b99ff7e",
   "metadata": {},
   "outputs": [],
   "source": [
    "df=pd.read_excel('MyContacts(1).xlsx') "
   ]
  },
  {
   "cell_type": "code",
   "execution_count": 11,
   "id": "c2f80295",
   "metadata": {},
   "outputs": [
    {
     "name": "stdout",
     "output_type": "stream",
     "text": [
      " ASTI INFOTECH  Smarter Solutions  Bangalore (Head Quarter)  Asti Infotech Pvt. Ltd.  Manjunatha Kanika (MANKA)  Ground Floor No. 90, 2nd Main  Bengaluru, Karnataka - 5601 00  Phase 1, Electronic City,  Wilmington (USA)  24A Trolley Square,  #2205 Wilmington,  DE 19806  8 www.astiinfotech.com \n"
     ]
    }
   ],
   "source": [
    "text=df['parsedTxt'][random.randint(0, 170)] #Sample text\n",
    "text = text.replace('\\n','  ') #modifying text for RE\n",
    "text = ' ' + text + ' '\n",
    "print(text)"
   ]
  },
  {
   "cell_type": "code",
   "execution_count": 12,
   "id": "7b546f52",
   "metadata": {},
   "outputs": [
    {
     "name": "stdout",
     "output_type": "stream",
     "text": [
      "Entity: ASTI, Label: ORGANIZATION\n",
      "Entity: INFOTECH Smarter Solutions Bangalore, Label: ORGANIZATION\n",
      "Entity: Head, Label: ORGANIZATION\n",
      "Entity: Asti Infotech Pvt, Label: PERSON\n",
      "Entity: MANKA, Label: ORGANIZATION\n",
      "Entity: Ground Floor No, Label: PERSON\n",
      "Entity: Karnataka, Label: PERSON\n",
      "Entity: Electronic City, Label: PERSON\n",
      "Entity: Wilmington, Label: GPE\n",
      "Entity: USA, Label: ORGANIZATION\n",
      "Entity: Trolley Square, Label: FACILITY\n",
      "Entity: Wilmington, Label: PERSON\n",
      "Entity: DE, Label: ORGANIZATION\n"
     ]
    }
   ],
   "source": [
    "extractfromnltk2(text)"
   ]
  },
  {
   "cell_type": "code",
   "execution_count": 13,
   "id": "ff626a33",
   "metadata": {},
   "outputs": [
    {
     "name": "stdout",
     "output_type": "stream",
     "text": [
      "Entity: 'ASTI INFOTECH  Smarter Solutions  Bangalore' (ORG)\n"
     ]
    },
    {
     "data": {
      "text/plain": [
       "'ASTI INFOTECH  Smarter Solutions  Bangalore'"
      ]
     },
     "execution_count": 13,
     "metadata": {},
     "output_type": "execute_result"
    }
   ],
   "source": [
    "extractfromflair(text)"
   ]
  },
  {
   "cell_type": "code",
   "execution_count": null,
   "id": "66c3805d",
   "metadata": {},
   "outputs": [],
   "source": []
  }
 ],
 "metadata": {
  "kernelspec": {
   "display_name": "Python 3 (ipykernel)",
   "language": "python",
   "name": "python3"
  },
  "language_info": {
   "codemirror_mode": {
    "name": "ipython",
    "version": 3
   },
   "file_extension": ".py",
   "mimetype": "text/x-python",
   "name": "python",
   "nbconvert_exporter": "python",
   "pygments_lexer": "ipython3",
   "version": "3.10.9"
  }
 },
 "nbformat": 4,
 "nbformat_minor": 5
}
