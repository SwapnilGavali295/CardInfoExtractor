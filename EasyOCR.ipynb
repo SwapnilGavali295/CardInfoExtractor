{
 "cells": [
  {
   "cell_type": "code",
   "execution_count": 1,
   "id": "fd071781",
   "metadata": {},
   "outputs": [
    {
     "name": "stdout",
     "output_type": "stream",
     "text": [
      "[([[391, 0], [1205, 0], [1205, 37], [391, 37]], 'Seeduy WS Uttice, PostgreSQL, Git,CUDA, Simulink, Fusion360, Git; AutoCAD', 0.13128046721395728), ([[352, 19], [720, 19], [720, 73], [352, 73]], 'PROFESSIONAL EXPERIENCE', 0.9992041764525811), ([[18, 55], [718, 55], [718, 111], [18, 111]], 'Star Space technologies and Aeronautical Rocketry, Surat', 0.8746322931403003), ([[30, 92], [812, 92], [812, 146], [30, 146]], 'Worked on two projects: \"Static Rocket Motor Test Pad\" and \"Sensor', 0.8002848395116283), ([[805, 110], [1161, 110], [1161, 153], [805, 153]], 'Interfacing Software for Antenna', 0.9998809432682819), ([[30, 126], [983, 126], [983, 187], [30, 187]], 'Designed electronics with load cells and an Arduino microcontroller, coded logic {n Ortv', 0.5212356573587249), ([[1040, 152], [1172, 152], [1172, 180], [1040, 180]], 'Arduino IDE', 0.9476633671759106), ([[34, 164], [1230, 164], [1230, 216], [34, 216]], 'Conducted two Proteus simulations and created PCB designs to validate and implement the electronics system', 0.8326495364365138), ([[33, 215], [479, 215], [479, 256], [33, 256]], 'Reomnify Private Limited, Singapore', 0.8015445249154621), ([[44, 250], [173, 250], [173, 288], [44, 288]], 'Developed', 0.999972661149409), ([[186, 249], [1187, 249], [1187, 289], [186, 289]], 'scalable Python web scraping framework to extract and load data from 60+ websites monthly', 0.991830273094895), ([[44, 281], [1215, 281], [1215, 324], [44, 324]], 'Implemented data pipelines to gather, transform and load over 10k location records into a PostgreSQL server', 0.6656812519215579), ([[51, 319], [1155, 319], [1155, 355], [51, 355]], 'Used the Psycopg2 library for SQL connectivity and Bitbucket for version control throughout the project', 0.8532170305574702), ([[47, 365], [545, 365], [545, 402], [47, 402]], 'Unified Mentor Private Limited, Gurugram', 0.9281990543339576), ([[57, 396], [1199, 396], [1199, 432], [57, 432]], 'Created 5 interactive Power Bl dashboards for sales and foreign investment data, cleaned data using Python', 0.6907733672139219), ([[59, 427], [1155, 427], [1155, 465], [59, 465]], 'Designed a Flourish visualization to track foreign investments, enhancing data presentation and insights', 0.8013206034707455), ([[59, 457], [1199, 457], [1199, 497], [59, 497]], 'Built a web-based model with Streamlit, using RF classifier to forecast employee attrition with 85% accuracy', 0.7350996039117933), ([[56, 509], [518, 509], [518, 540], [56, 540]], 'Navodita Infotech Private Limited, Pune', 0.759647051578141), ([[58, 531], [1195, 531], [1195, 574], [58, 574]], 'Leveraged C++ and Winsock to create a messaging platform for confidential communication within company', 0.7882067064572342), ([[60, 560], [1126, 560], [1126, 608], [60, 608]], 'Architected a client-server model to support multiple clients, leveraging multithreading for scalability', 0.8103157849606565), ([[59, 590], [1184, 590], [1184, 642], [59, 642]], 'Optimized the CLI application with multicolour text features while also implementing robust error handling', 0.7286510937942762), ([[477, 643], [604, 643], [604, 676], [477, 676]], 'PROJECTS', 0.9998458219048875), ([[229, 672], [1206, 672], [1206, 721], [229, 721]], 'focused on AI-based UAV guidance, after successfully completing the construction ofthe UAV', 0.8053227807671404), ([[62, 692], [232, 692], [232, 720], [62, 720]], 'Initiated a DDP', 0.9125992120748676), ([[417, 705], [1167, 705], [1167, 743], [417, 743]], 'review on UAV guidance and object recognition to identify research gaps', 0.7021435401485775), ([[63, 719], [421, 719], [421, 755], [63, 755]], 'Conducted a thorough literature', 0.9303221096206913), ([[480, 735], [1171, 735], [1171, 774], [480, 774]], \"models for UAVguidance utilizing MATLAB's UAV Toolbox features_\", 0.7883608403122218), ([[65, 747], [481, 747], [481, 789], [65, 789]], 'Currently developing Computer_vision', 0.9062436493443845), ([[273, 766], [1218, 766], [1218, 817], [273, 817]], 'communication UAV to provide crucial connectivity to regions affected by natural disasters', 0.6631582318809871), ([[66, 790], [274, 790], [274, 822], [66, 822]], 'Led the design of a', 0.9499979321558708), ([[484, 795], [1219, 795], [1219, 838], [484, 838]], 'Fusion360 and Matlab for optimal functionality and precise calculations', 0.8164996505844849), ([[67, 813], [487, 813], [487, 853], [67, 853]], 'Designed the UAV using CAD software,', 0.7752241678948493), ([[572, 825], [1185, 825], [1185, 866], [572, 866]], 'aircraft structure while meeting all the design specifications', 0.7905045325306914), ([[63, 838], [576, 838], [576, 886], [63, 886]], 'Successfully completed the construction of the', 0.8274990205316075), ([[682, 861], [926, 861], [926, 892], [682, 892]], 'of words and processed', 0.9868222765515713), ([[985, 857], [1196, 857], [1196, 889], [985, 889]], 'OpenCv for training', 0.7912198823386545), ([[65, 866], [686, 866], [686, 918], [65, 918]], 'Harnessed IAM dataset comprising 11Sk grayscale images', 0.6039303260348085), ([[694, 889], [1180, 889], [1180, 922], [694, 922]], 'feature extraction and integrated BLSTM layers', 0.9353573544992037), ([[0, 910], [22, 910], [22, 936], [0, 936]], 'Kt', 0.15799646392287553), ([[307, 899], [697, 899], [697, 941], [307, 941]], 'CNN with residual blocks to enhance', 0.859853016823876), ([[67, 916], [308, 916], [308, 948], [67, 948]], 'Constructed a 9-layer', 0.9885982782359183), ([[530, 919], [1175, 919], [1175, 962], [530, 962]], 'achieved 91% accuracy after_training the model for five epochs', 0.739216485158261), ([[65, 934], [534, 934], [534, 984], [65, 984]], 'Captured sequential patterns in letters and', 0.7996164726487665), ([[637, 947], [1213, 947], [1213, 985], [637, 985]], 'with Bs4 and Requests, ensuring comprehensive dataset', 0.831620741947673), ([[71, 982], [295, 982], [295, 1018], [71, 1018]], 'Web scraped laptop', 0.818540351312001), ([[353, 960], [640, 960], [640, 1003], [353, 1003]], 'data for training the model', 0.9982093931592948), ([[694, 979], [1187, 979], [1187, 1015], [694, 1015]], 'Streamlit and a stacked ensemble of regressors', 0.9027869706646425), ([[67, 992], [573, 992], [573, 1047], [67, 1047]], 'Created and hosted a laptop pricing prediction', 0.6078245865787696), ([[609, 987], [1129, 987], [1129, 1051], [609, 1051]], 'eldsitackireaeireanor3 schieeine sescore of egr', 0.17301851410041846), ([[68, 1042], [200, 1042], [200, 1083], [68, 1083]], 'Engineered', 0.9997261074090743), ([[218, 1044], [272, 1044], [272, 1072], [218, 1072]], 'data', 0.9999998211860657), ([[363, 1022], [613, 1022], [613, 1067], [363, 1067]], 'using one-hot encoding', 0.7776405603743877), ([[660, 1041], [1211, 1041], [1211, 1077], [660, 1077]], 'WinSock, enabling file transfers between multiple PCs', 0.8688251982892208), ([[69, 1064], [472, 1064], [472, 1110], [69, 1110]], 'Engineered a multi-threaded C++ file', 0.8766953577749591), ([[551, 1051], [1174, 1051], [1174, 1110], [551, 1110]], 't0hesov} Or sporting multiple concurrent files efficientlv', 0.15200947614499236), ([[495, 1086], [616, 1086], [616, 1110], [495, 1110]], 'Himized the', 0.3412794535106927), ([[981.1299778141514, 149.12892678669957], [1044.8414337268835, 157.03757889895883], [1039.8700221858487, 187.87107321330043], [977.1585662731165, 179.96242110104117]], 'using', 0.9999930694352156), ([[926.9909908090056, 858.1747742652154], [987.8827208632812, 865.1693855139698], [984.0090091909944, 891.8252257347846], [923.1172791367188, 883.8306144860302]], 'using', 0.9999551111644512), ([[291.5430712064641, 980.3775281716354], [352.525082246797, 973.3801359171491], [355.4569287935359, 1003.6224718283646], [294.474917753203, 1010.6198640828509]], 'price', 0.9999959482858913), ([[567.3358994113244, 995.5038491169864], [639.7078110436104, 988.7085824253551], [640.6641005886756, 1015.4961508830136], [569.2921889563896, 1022.2914175746449]], 'model', 0.9999721177702753), ([[269.4789396203098, 1044.4141973545268], [363.7942019379268, 1037.9080130357527], [364.5210603796902, 1066.5858026454732], [271.2057980620732, 1074.0919869642473]], 'pipeline', 0.9999747539057386), ([[466.3358994113243, 1064.5038491169864], [557.8076277654874, 1057.9430107235812], [558.6641005886756, 1084.4961508830136], [467.1923722345126, 1092.0569892764188]], 'transfer', 0.9731040880369417)]\n"
     ]
    }
   ],
   "source": [
    "import easyocr\n",
    "import os\n",
    "import pandas as pd\n",
    "\n",
    "# Initialize the OCR reader\n",
    "reader = easyocr.Reader(['en'])\n",
    "data = []\n",
    "\n",
    "image_folder = 'card'\n",
    "\n",
    "\n",
    "for filename in os.listdir(image_folder):\n",
    "    if filename.endswith('.jpeg') or filename.endswith('.jpg'): \n",
    "        image_path = os.path.join(image_folder, filename)\n",
    "\n",
    "        # Read text from the image\n",
    "        result = reader.readtext(image_path)\n",
    "\n",
    "        # Join all the text from the result\n",
    "        parsed_text = ' '.join([detection[1] for detection in result])\n",
    "\n",
    "        # Dummy placeholders for other columns (implement your own logic for extracting these fields)\n",
    "        fullname = \"\"\n",
    "        company = \"\"\n",
    "        job_title = \"\"\n",
    "        address = \"\"\n",
    "        phone = \"\"\n",
    "        phone_2 = \"\"\n",
    "        email = \"\"\n",
    "        email_2 = \"\"\n",
    "        website = \"\"\n",
    "        print(result)\n",
    "        # Add the extracted data to the list\n",
    "        data.append([parsed_text, fullname, company, job_title, address, phone, phone_2, email, email_2, website])\n",
    "\n",
    "df = pd.DataFrame(data, columns=['parsedTxt', 'fullname', 'company', 'job_title', 'address', 'phone', 'phone_2', 'email', 'email_2', 'website'])\n",
    "df.to_excel('MyContactsNew.xlsx', index=False)\n"
   ]
  },
  {
   "cell_type": "code",
   "execution_count": 3,
   "id": "8fd370f1",
   "metadata": {},
   "outputs": [
    {
     "name": "stdout",
     "output_type": "stream",
     "text": [
      "Seeduy WS Uttice, PostgreSQL, Git,CUDA, Simulink, Fusion360, Git; AutoCAD\n",
      "PROFESSIONAL EXPERIENCE\n",
      "Star Space technologies and Aeronautical Rocketry, Surat\n",
      "Worked on two projects: \"Static Rocket Motor Test Pad\" and \"Sensor\n",
      "Interfacing Software for Antenna\n",
      "Designed electronics with load cells and an Arduino microcontroller, coded logic {n Ortv\n",
      "Arduino IDE\n",
      "Conducted two Proteus simulations and created PCB designs to validate and implement the electronics system\n",
      "Reomnify Private Limited, Singapore\n",
      "Developed\n",
      "scalable Python web scraping framework to extract and load data from 60+ websites monthly\n",
      "Implemented data pipelines to gather, transform and load over 10k location records into a PostgreSQL server\n",
      "Used the Psycopg2 library for SQL connectivity and Bitbucket for version control throughout the project\n",
      "Unified Mentor Private Limited, Gurugram\n",
      "Created 5 interactive Power Bl dashboards for sales and foreign investment data, cleaned data using Python\n",
      "Designed a Flourish visualization to track foreign investments, enhancing data presentation and insights\n",
      "Built a web-based model with Streamlit, using RF classifier to forecast employee attrition with 85% accuracy\n",
      "Navodita Infotech Private Limited, Pune\n",
      "Leveraged C++ and Winsock to create a messaging platform for confidential communication within company\n",
      "Architected a client-server model to support multiple clients, leveraging multithreading for scalability\n",
      "Optimized the CLI application with multicolour text features while also implementing robust error handling\n",
      "PROJECTS\n",
      "focused on AI-based UAV guidance, after successfully completing the construction ofthe UAV\n",
      "Initiated a DDP\n",
      "review on UAV guidance and object recognition to identify research gaps\n",
      "Conducted a thorough literature\n",
      "models for UAVguidance utilizing MATLAB's UAV Toolbox features_\n",
      "Currently developing Computer_vision\n",
      "communication UAV to provide crucial connectivity to regions affected by natural disasters\n",
      "Led the design of a\n",
      "Fusion360 and Matlab for optimal functionality and precise calculations\n",
      "Designed the UAV using CAD software,\n",
      "aircraft structure while meeting all the design specifications\n",
      "Successfully completed the construction of the\n",
      "of words and processed\n",
      "OpenCv for training\n",
      "Harnessed IAM dataset comprising 11Sk grayscale images\n",
      "feature extraction and integrated BLSTM layers\n",
      "Kt\n",
      "CNN with residual blocks to enhance\n",
      "Constructed a 9-layer\n",
      "achieved 91% accuracy after_training the model for five epochs\n",
      "Captured sequential patterns in letters and\n",
      "with Bs4 and Requests, ensuring comprehensive dataset\n",
      "Web scraped laptop\n",
      "data for training the model\n",
      "Streamlit and a stacked ensemble of regressors\n",
      "Created and hosted a laptop pricing prediction\n",
      "eldsitackireaeireanor3 schieeine sescore of egr\n",
      "Engineered\n",
      "data\n",
      "using one-hot encoding\n",
      "WinSock, enabling file transfers between multiple PCs\n",
      "Engineered a multi-threaded C++ file\n",
      "t0hesov} Or sporting multiple concurrent files efficientlv\n",
      "Himized the\n",
      "using\n",
      "using\n",
      "price\n",
      "model\n",
      "pipeline\n",
      "transfer\n"
     ]
    }
   ],
   "source": [
    "\n",
    "\n",
    "import easyocr\n",
    "\n",
    "# Create an OCR reader object\n",
    "reader = easyocr.Reader(['en'])\n",
    "\n",
    "# Read text from an image\n",
    "result = reader.readtext('image.jpeg')\n",
    "\n",
    "# Print the extracted text\n",
    "for detection in result:\n",
    "    print(detection[1])"
   ]
  },
  {
   "cell_type": "code",
   "execution_count": 5,
   "id": "b89c9308",
   "metadata": {},
   "outputs": [
    {
     "name": "stdout",
     "output_type": "stream",
     "text": [
      "Collecting openpyxl\n",
      "  Obtaining dependency information for openpyxl from https://files.pythonhosted.org/packages/c0/da/977ded879c29cbd04de313843e76868e6e13408a94ed6b987245dc7c8506/openpyxl-3.1.5-py2.py3-none-any.whl.metadata\n",
      "  Downloading openpyxl-3.1.5-py2.py3-none-any.whl.metadata (2.5 kB)\n",
      "Collecting et-xmlfile (from openpyxl)\n",
      "  Obtaining dependency information for et-xmlfile from https://files.pythonhosted.org/packages/c1/8b/5fe2cc11fee489817272089c4203e679c63b570a5aaeb18d852ae3cbba6a/et_xmlfile-2.0.0-py3-none-any.whl.metadata\n",
      "  Downloading et_xmlfile-2.0.0-py3-none-any.whl.metadata (2.7 kB)\n",
      "Downloading openpyxl-3.1.5-py2.py3-none-any.whl (250 kB)\n",
      "   ---------------------------------------- 0.0/250.9 kB ? eta -:--:--\n",
      "   --- ----------------------------------- 20.5/250.9 kB 640.0 kB/s eta 0:00:01\n",
      "   ------- ------------------------------- 51.2/250.9 kB 660.6 kB/s eta 0:00:01\n",
      "   ---------------------------------------- 250.9/250.9 kB 2.6 MB/s eta 0:00:00\n",
      "Downloading et_xmlfile-2.0.0-py3-none-any.whl (18 kB)\n",
      "Installing collected packages: et-xmlfile, openpyxl\n",
      "Successfully installed et-xmlfile-2.0.0 openpyxl-3.1.5\n",
      "Note: you may need to restart the kernel to use updated packages.\n"
     ]
    },
    {
     "name": "stderr",
     "output_type": "stream",
     "text": [
      "\n",
      "[notice] A new release of pip is available: 23.2.1 -> 24.3.1\n",
      "[notice] To update, run: C:\\Users\\Swapnil\\AppData\\Local\\Programs\\Python\\Python312\\python.exe -m pip install --upgrade pip\n"
     ]
    }
   ],
   "source": [
    "pip install openpyxl\n"
   ]
  },
  {
   "cell_type": "code",
   "execution_count": null,
   "id": "753e6f4a",
   "metadata": {},
   "outputs": [],
   "source": []
  }
 ],
 "metadata": {
  "kernelspec": {
   "display_name": "Python 3.12",
   "language": "python",
   "name": "python3.12"
  },
  "language_info": {
   "codemirror_mode": {
    "name": "ipython",
    "version": 3
   },
   "file_extension": ".py",
   "mimetype": "text/x-python",
   "name": "python",
   "nbconvert_exporter": "python",
   "pygments_lexer": "ipython3",
   "version": "3.12.0"
  }
 },
 "nbformat": 4,
 "nbformat_minor": 5
}
