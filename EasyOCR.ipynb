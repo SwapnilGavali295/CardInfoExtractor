{
 "cells": [
  {
   "cell_type": "code",
   "execution_count": 2,
   "id": "fd071781",
   "metadata": {},
   "outputs": [],
   "source": [
    "import easyocr\n",
    "import os\n",
    "import pandas as pd\n",
    "\n",
    "# Initialize the OCR reader\n",
    "reader = easyocr.Reader(['en'])\n",
    "data = []\n",
    "\n",
    "image_folder = 'card'\n",
    "\n",
    "\n",
    "for filename in os.listdir(image_folder):\n",
    "    if filename.endswith('.jpeg') or filename.endswith('.jpg'): \n",
    "        image_path = os.path.join(image_folder, filename)\n",
    "\n",
    "        # Read text from the image\n",
    "        result = reader.readtext(image_path)\n",
    "\n",
    "        # Join all the text from the result\n",
    "        parsed_text = ' '.join([detection[1] for detection in result])\n",
    "\n",
    "        # Dummy placeholders for other columns (implement your own logic for extracting these fields)\n",
    "        fullname = \"\"\n",
    "        company = \"\"\n",
    "        job_title = \"\"\n",
    "        address = \"\"\n",
    "        phone = \"\"\n",
    "        phone_2 = \"\"\n",
    "        email = \"\"\n",
    "        email_2 = \"\"\n",
    "        website = \"\"\n",
    "        #print(result)\n",
    "        # Add the extracted data to the list\n",
    "        data.append([parsed_text, fullname, company, job_title, address, phone, phone_2, email, email_2, website])\n",
    "\n",
    "df = pd.DataFrame(data, columns=['parsedTxt', 'fullname', 'company', 'job_title', 'address', 'phone', 'phone_2', 'email', 'email_2', 'website'])\n",
    "df.to_excel('MyContactsNew.xlsx', index=False)\n"
   ]
  },
  {
   "cell_type": "code",
   "execution_count": null,
   "id": "753e6f4a",
   "metadata": {},
   "outputs": [],
   "source": []
  }
 ],
 "metadata": {
  "kernelspec": {
   "display_name": "Python 3.12",
   "language": "python",
   "name": "python3.12"
  },
  "language_info": {
   "codemirror_mode": {
    "name": "ipython",
    "version": 3
   },
   "file_extension": ".py",
   "mimetype": "text/x-python",
   "name": "python",
   "nbconvert_exporter": "python",
   "pygments_lexer": "ipython3",
   "version": "3.12.0"
  }
 },
 "nbformat": 4,
 "nbformat_minor": 5
}
